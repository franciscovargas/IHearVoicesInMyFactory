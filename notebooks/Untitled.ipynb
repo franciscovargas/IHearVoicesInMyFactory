{
 "cells": [
  {
   "cell_type": "code",
   "execution_count": 21,
   "metadata": {},
   "outputs": [],
   "source": [
    "from os import path, listdir, curdir\n",
    "\n",
    "notebook_path = path.realpath(curdir)\n",
    "data_path = path.join(path.dirname(notebook_path), \"data\")\n",
    "audio_path = path.join(data_path, \"Sample Audio\")"
   ]
  },
  {
   "cell_type": "code",
   "execution_count": 23,
   "metadata": {},
   "outputs": [
    {
     "data": {
      "text/plain": [
       "['device1_channel1_20181021000837.wav',\n",
       " 'device1_channel1_20181021002730.wav',\n",
       " 'device1_channel1_20181021004624.wav',\n",
       " 'device1_channel1_20181021010518.wav',\n",
       " 'device1_channel1_20181021012411.wav',\n",
       " 'device1_channel1_20181021014305.wav',\n",
       " 'device1_channel1_20181021195859.wav',\n",
       " 'device1_channel1_20181021203646.wav',\n",
       " 'device1_channel1_20181021215221.wav',\n",
       " 'device1_channel1_20181021230756.wav']"
      ]
     },
     "execution_count": 23,
     "metadata": {},
     "output_type": "execute_result"
    }
   ],
   "source": [
    "listdir(audio_path)"
   ]
  },
  {
   "cell_type": "code",
   "execution_count": 27,
   "metadata": {},
   "outputs": [
    {
     "name": "stdout",
     "output_type": "stream",
     "text": [
      "device1_channel1_20181021000837.wav\r\n",
      "device1_channel1_20181021002730.wav\r\n",
      "device1_channel1_20181021004624.wav\r\n",
      "device1_channel1_20181021010518.wav\r\n",
      "device1_channel1_20181021012411.wav\r\n",
      "device1_channel1_20181021014305.wav\r\n",
      "device1_channel1_20181021195859.wav\r\n",
      "device1_channel1_20181021203646.wav\r\n",
      "device1_channel1_20181021215221.wav\r\n",
      "device1_channel1_20181021230756.wav\r\n"
     ]
    }
   ],
   "source": [
    "ls -1 \"../data/Sample Audio\""
   ]
  },
  {
   "cell_type": "code",
   "execution_count": null,
   "metadata": {},
   "outputs": [],
   "source": []
  }
 ],
 "metadata": {
  "kernelspec": {
   "display_name": "Python 2",
   "language": "python",
   "name": "python2"
  },
  "language_info": {
   "codemirror_mode": {
    "name": "ipython",
    "version": 2
   },
   "file_extension": ".py",
   "mimetype": "text/x-python",
   "name": "python",
   "nbconvert_exporter": "python",
   "pygments_lexer": "ipython2",
   "version": "2.7.14"
  }
 },
 "nbformat": 4,
 "nbformat_minor": 2
}
